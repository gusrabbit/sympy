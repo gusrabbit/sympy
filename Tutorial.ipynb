{
 "cells": [
  {
   "cell_type": "markdown",
   "id": "41222b80-49e7-4dbb-b88f-37878cd58a16",
   "metadata": {},
   "source": [
    "# Tutorial SymPy"
   ]
  },
  {
   "cell_type": "markdown",
   "id": "ddb15eff-9c55-4be2-8cfe-adcd53e8b209",
   "metadata": {},
   "source": [
    "## O que é Computação Simbólica?"
   ]
  },
  {
   "cell_type": "markdown",
   "id": "4e5ab3d3-754d-4a3e-8830-6c65cd55f4d1",
   "metadata": {},
   "source": [
    "Ela lida com a computação de objeticos matemáticos simbolicamente. Basicamente em vez de calcular o resultado de forma aproximada como estamos acostumado essa lib representa os resultados de forma exata deixando qualquer variável não calculada na forma simbólica.\n",
    "\n",
    "Basicamente calcula usando os símbolos em vez de números."
   ]
  },
  {
   "cell_type": "code",
   "execution_count": 1,
   "id": "a487d8f7-2f97-4b84-a6a6-4ffdef094ba7",
   "metadata": {},
   "outputs": [
    {
     "data": {
      "text/plain": [
       "3.0"
      ]
     },
     "execution_count": 1,
     "metadata": {},
     "output_type": "execute_result"
    }
   ],
   "source": [
    "import math\n",
    "math.sqrt(9)"
   ]
  },
  {
   "cell_type": "code",
   "execution_count": 2,
   "id": "e037072a-894d-43aa-bbe7-86e59f55505a",
   "metadata": {},
   "outputs": [
    {
     "data": {
      "text/plain": [
       "2.8284271247461903"
      ]
     },
     "execution_count": 2,
     "metadata": {},
     "output_type": "execute_result"
    }
   ],
   "source": [
    "math.sqrt(8)"
   ]
  },
  {
   "cell_type": "code",
   "execution_count": 5,
   "id": "270175e7-7d7b-4e24-817c-edcfa10290da",
   "metadata": {},
   "outputs": [
    {
     "data": {
      "text/latex": [
       "$\\displaystyle 2 \\sqrt{2}$"
      ],
      "text/plain": [
       "2*sqrt(2)"
      ]
     },
     "execution_count": 5,
     "metadata": {},
     "output_type": "execute_result"
    }
   ],
   "source": [
    "import sympy\n",
    "sympy.sqrt(8)"
   ]
  },
  {
   "cell_type": "markdown",
   "id": "8aba9807-016b-4cfc-942f-4b0806f8bd40",
   "metadata": {},
   "source": [
    "# Outro exemplo\n",
    "No Sympy as variáveis precisam ser definidas antes de serem usadas."
   ]
  },
  {
   "cell_type": "markdown",
   "id": "c336f59f-ad3c-421b-9f68-d7d97ca79bb1",
   "metadata": {},
   "source": [
    "Como definir a expressão x + 2y"
   ]
  },
  {
   "cell_type": "code",
   "execution_count": 9,
   "id": "6f4910f4-c0a5-4e95-bccd-2bac2a6856dd",
   "metadata": {},
   "outputs": [
    {
     "data": {
      "text/latex": [
       "$\\displaystyle x + 2 y$"
      ],
      "text/plain": [
       "x + 2*y"
      ]
     },
     "execution_count": 9,
     "metadata": {},
     "output_type": "execute_result"
    }
   ],
   "source": [
    "from sympy import symbols\n",
    "x, y = symbols('x y')\n",
    "expr = x + 2 * y\n",
    "expr"
   ]
  },
  {
   "cell_type": "markdown",
   "id": "2f1f7ec6-933e-425d-a677-04b4c39119c0",
   "metadata": {},
   "source": [
    "Funcionalidade legal."
   ]
  },
  {
   "cell_type": "code",
   "execution_count": 7,
   "id": "04a98766-bae3-44cf-b12a-3055d2dfe927",
   "metadata": {},
   "outputs": [
    {
     "data": {
      "text/latex": [
       "$\\displaystyle x + 2 y + 1$"
      ],
      "text/plain": [
       "x + 2*y + 1"
      ]
     },
     "execution_count": 7,
     "metadata": {},
     "output_type": "execute_result"
    }
   ],
   "source": [
    "expr + 1"
   ]
  },
  {
   "cell_type": "code",
   "execution_count": 8,
   "id": "5baf517d-ffdf-4a0c-b262-d4ca38af8559",
   "metadata": {},
   "outputs": [
    {
     "data": {
      "text/latex": [
       "$\\displaystyle 2 y$"
      ],
      "text/plain": [
       "2*y"
      ]
     },
     "execution_count": 8,
     "metadata": {},
     "output_type": "execute_result"
    }
   ],
   "source": [
    "expr - x"
   ]
  },
  {
   "cell_type": "markdown",
   "id": "583a0ec0-c787-4c43-9e2d-5f47c3f24fa2",
   "metadata": {},
   "source": [
    "Mas nem sempre da essa resumida:"
   ]
  },
  {
   "cell_type": "code",
   "execution_count": 10,
   "id": "bf3dc432-cee2-4f3b-911b-3c77439a33c9",
   "metadata": {},
   "outputs": [
    {
     "data": {
      "text/latex": [
       "$\\displaystyle x \\left(x + 2 y\\right)$"
      ],
      "text/plain": [
       "x*(x + 2*y)"
      ]
     },
     "execution_count": 10,
     "metadata": {},
     "output_type": "execute_result"
    }
   ],
   "source": [
    "x * expr"
   ]
  },
  {
   "cell_type": "markdown",
   "id": "f9df0e39-bd05-4b5e-a90f-ab2b670ae466",
   "metadata": {},
   "source": [
    "Na verdade a maioria das simplificações não são automáticas. As mantenedoras da lib preferem que você mesmo escolha a forma como as expressões são mostradas."
   ]
  },
  {
   "cell_type": "code",
   "execution_count": 11,
   "id": "feae87ae-4208-4245-a514-fc5e41dc5612",
   "metadata": {},
   "outputs": [
    {
     "data": {
      "text/latex": [
       "$\\displaystyle x^{2} + 2 x y$"
      ],
      "text/plain": [
       "x**2 + 2*x*y"
      ]
     },
     "execution_count": 11,
     "metadata": {},
     "output_type": "execute_result"
    }
   ],
   "source": [
    "from sympy import expand, factor\n",
    "expanded_expr = expand(x * expr)\n",
    "expanded_expr"
   ]
  },
  {
   "cell_type": "code",
   "execution_count": 12,
   "id": "16dca126-0b68-428a-9be7-7082f14c7e80",
   "metadata": {},
   "outputs": [
    {
     "data": {
      "text/latex": [
       "$\\displaystyle x \\left(x + 2 y\\right)$"
      ],
      "text/plain": [
       "x*(x + 2*y)"
      ]
     },
     "execution_count": 12,
     "metadata": {},
     "output_type": "execute_result"
    }
   ],
   "source": [
    "factor(expanded_expr)"
   ]
  },
  {
   "cell_type": "markdown",
   "id": "cf190642-c4b1-4186-9caf-76f5e58f39e7",
   "metadata": {},
   "source": [
    "# O poder da Computação Simbólica"
   ]
  },
  {
   "cell_type": "code",
   "execution_count": 13,
   "id": "fa5a663d-c264-4b00-be37-0c5a3387459a",
   "metadata": {},
   "outputs": [],
   "source": [
    "from sympy import *\n",
    "x, t, z, nu = symbols('x t z nu')"
   ]
  },
  {
   "cell_type": "code",
   "execution_count": 14,
   "id": "adac0d22-fe68-4a8d-9fd3-ab2e221a008e",
   "metadata": {},
   "outputs": [],
   "source": [
    "init_printing(use_unicode=True)"
   ]
  },
  {
   "cell_type": "markdown",
   "id": "0db157c2-7fce-487b-8f28-63b2f7887dc8",
   "metadata": {},
   "source": [
    "Derivada de $\\sin(x) e^x$:"
   ]
  },
  {
   "cell_type": "code",
   "execution_count": 15,
   "id": "d98b1ff4-c49b-4007-8bf5-118f7170d262",
   "metadata": {},
   "outputs": [
    {
     "data": {
      "image/png": "[encoded data removed]",
      "text/latex": [
       "$\\displaystyle e^{x} \\sin{\\left(x \\right)} + e^{x} \\cos{\\left(x \\right)}$"
      ],
      "text/plain": [
       " x           x       \n",
       "ℯ ⋅sin(x) + ℯ ⋅cos(x)"
      ]
     },
     "execution_count": 15,
     "metadata": {},
     "output_type": "execute_result"
    }
   ],
   "source": [
    "diff(sin(x) * exp(x), x)"
   ]
  },
  {
   "cell_type": "markdown",
   "id": "e1deef61-7d19-47d6-8ca7-b1c7661f7472",
   "metadata": {},
   "source": [
    "Vamos calcular a integral $\\int( e^x \\sin(x) + e^x * cos(x))dx$"
   ]
  },
  {
   "cell_type": "code",
   "execution_count": 16,
   "id": "f621e7f5-c3f9-4fc1-ba60-741c105a2208",
   "metadata": {},
   "outputs": [
    {
     "data": {
      "image/png": "[encoded data removed]",
      "text/latex": [
       "$\\displaystyle e^{x} \\sin{\\left(x \\right)}$"
      ],
      "text/plain": [
       " x       \n",
       "ℯ ⋅sin(x)"
      ]
     },
     "execution_count": 16,
     "metadata": {},
     "output_type": "execute_result"
    }
   ],
   "source": [
    "sympy.integrate(exp(x) * sin(x) + exp(x) * cos(x), x)"
   ]
  },
  {
   "cell_type": "markdown",
   "id": "4cb56538-4b5c-49fa-bfdd-fb4df1b8f91b",
   "metadata": {},
   "source": [
    "Agora $\\int_{-\\infty}^{\\infty} \\sin(x^2)dx$"
   ]
  },
  {
   "cell_type": "code",
   "execution_count": 18,
   "id": "ac0571c0-edf5-42d2-ad59-6e923baea493",
   "metadata": {},
   "outputs": [
    {
     "data": {
      "image/png": "[encoded data removed]",
      "text/latex": [
       "$\\displaystyle \\frac{\\sqrt{2} \\sqrt{\\pi}}{2}$"
      ],
      "text/plain": [
       "√2⋅√π\n",
       "─────\n",
       "  2  "
      ]
     },
     "execution_count": 18,
     "metadata": {},
     "output_type": "execute_result"
    }
   ],
   "source": [
    "sympy.integrate(sin(x**2), (x, -oo, oo))"
   ]
  },
  {
   "cell_type": "markdown",
   "id": "a66488f4-7bc4-48ce-ba0c-975182d168f5",
   "metadata": {},
   "source": [
    "Encontre o $\\lim_{x \\to 0}\\frac{\\sin(x)}{x}$"
   ]
  },
  {
   "cell_type": "code",
   "execution_count": 19,
   "id": "611b003d-74a2-4391-9144-2fbaaecb8fdb",
   "metadata": {},
   "outputs": [
    {
     "data": {
      "image/png": "[encoded data removed]",
      "text/latex": [
       "$\\displaystyle 1$"
      ],
      "text/plain": [
       "1"
      ]
     },
     "execution_count": 19,
     "metadata": {},
     "output_type": "execute_result"
    }
   ],
   "source": [
    "sympy.limit(sin(x)/x, x, 0)"
   ]
  },
  {
   "cell_type": "markdown",
   "id": "f09d2f5d-33ff-4abb-a550-7f3043ac9e74",
   "metadata": {},
   "source": [
    "Solucione $x^2 -2 = 0$"
   ]
  },
  {
   "cell_type": "code",
   "execution_count": 20,
   "id": "270767bc-d19e-44aa-a1b1-59f13943e6f3",
   "metadata": {},
   "outputs": [
    {
     "data": {
      "image/png": "[encoded data removed]",
      "text/latex": [
       "$\\displaystyle \\left[ - \\sqrt{2}, \\  \\sqrt{2}\\right]$"
      ],
      "text/plain": [
       "[-√2, √2]"
      ]
     },
     "execution_count": 20,
     "metadata": {},
     "output_type": "execute_result"
    }
   ],
   "source": [
    "sympy.solve(x**2 - 2, x)"
   ]
  },
  {
   "cell_type": "markdown",
   "id": "8ba62e5e-8ed4-47e6-a165-819978d97fec",
   "metadata": {},
   "source": [
    "Solucione a equação diferencial $y^n - y = e^t$"
   ]
  },
  {
   "cell_type": "code",
   "execution_count": 21,
   "id": "fa852d53-5beb-4196-b929-00da8b08ca92",
   "metadata": {},
   "outputs": [
    {
     "data": {
      "image/png": "[encoded data removed]",
      "text/latex": [
       "$\\displaystyle y{\\left(t \\right)} = C_{2} e^{- t} + \\left(C_{1} + \\frac{t}{2}\\right) e^{t}$"
      ],
      "text/plain": [
       "           -t   ⎛     t⎞  t\n",
       "y(t) = C₂⋅ℯ   + ⎜C₁ + ─⎟⋅ℯ \n",
       "                ⎝     2⎠   "
      ]
     },
     "execution_count": 21,
     "metadata": {},
     "output_type": "execute_result"
    }
   ],
   "source": [
    "y = sympy.Function('y')\n",
    "sympy.dsolve(Eq(y(t).diff(t, t) - y(t), exp(t)), y(t))"
   ]
  },
  {
   "cell_type": "markdown",
   "id": "a384744b-4b97-4821-bf0f-05d1770e01ce",
   "metadata": {},
   "source": [
    "Encontre o autovalor da matrix $\\begin{bmatrix} 1 & 2 \\\\ 2 &2 \\end{bmatrix}$"
   ]
  },
  {
   "cell_type": "code",
   "execution_count": 23,
   "id": "7707bb33-bc95-4e19-a73f-ce56fedec01d",
   "metadata": {},
   "outputs": [
    {
     "data": {
      "image/png": "[encoded data removed]",
      "text/latex": [
       "$\\displaystyle \\left\\{ \\frac{3}{2} - \\frac{\\sqrt{17}}{2} : 1, \\  \\frac{3}{2} + \\frac{\\sqrt{17}}{2} : 1\\right\\}$"
      ],
      "text/plain": [
       "⎧3   √17     3   √17   ⎫\n",
       "⎨─ - ───: 1, ─ + ───: 1⎬\n",
       "⎩2    2      2    2    ⎭"
      ]
     },
     "execution_count": 23,
     "metadata": {},
     "output_type": "execute_result"
    }
   ],
   "source": [
    "sympy.Matrix ([[1, 2], [2, 2]]).eigenvals()"
   ]
  },
  {
   "cell_type": "markdown",
   "id": "dacb012b-d0da-49b0-8001-073d88975d94",
   "metadata": {},
   "source": [
    "# ?\n",
    "Reescreva a função de Bessel $J_v (z)$ em termos da função de Besse esférica $j_v (z)$."
   ]
  },
  {
   "cell_type": "code",
   "execution_count": 25,
   "id": "05c64ecb-38c6-4375-99f6-32b06c1af99b",
   "metadata": {},
   "outputs": [
    {
     "data": {
      "image/png": "[encoded data removed]",
      "text/latex": [
       "$\\displaystyle \\frac{\\sqrt{2} \\sqrt{z} j_{\\nu - \\frac{1}{2}}\\left(z\\right)}{\\sqrt{\\pi}}$"
      ],
      "text/plain": [
       "√2⋅√z⋅jn(ν - 1/2, z)\n",
       "────────────────────\n",
       "         √π         "
      ]
     },
     "execution_count": 25,
     "metadata": {},
     "output_type": "execute_result"
    }
   ],
   "source": [
    "sympy.besselj(nu, z).rewrite(jn)"
   ]
  },
  {
   "cell_type": "markdown",
   "id": "9387de65-012b-4eb5-956f-b7749d195de5",
   "metadata": {},
   "source": [
    "Dê o print em $\\int_{0}^{\\pi} \\cos^2 (x)dx$ usando $\\LaTeX$"
   ]
  },
  {
   "cell_type": "code",
   "execution_count": 32,
   "id": "7ffc6f21-d25e-46a1-a5d9-d2faf00a3da8",
   "metadata": {},
   "outputs": [
    {
     "data": {
      "text/plain": [
       "'\\\\int\\\\limits_{0}^{\\\\pi} \\\\cos^{2}{\\\\left(x \\\\right)}\\\\, dx'"
      ]
     },
     "execution_count": 32,
     "metadata": {},
     "output_type": "execute_result"
    }
   ],
   "source": [
    "sympy.latex(Integral(cos(x)**2, (x, 0, pi)))"
   ]
  },
  {
   "cell_type": "markdown",
   "id": "351cf927-a72f-4b79-8be7-8d6351d0db5b",
   "metadata": {},
   "source": [
    "Útil para tranformar equações em python para Latex."
   ]
  },
  {
   "cell_type": "markdown",
   "id": "082a472f-bdf7-40a2-bdbb-4a168c6af18e",
   "metadata": {},
   "source": [
    "# Pegadinha do malandro"
   ]
  },
  {
   "cell_type": "markdown",
   "id": "c64ae9f1-3be1-46e0-9ac8-bfabd1b50468",
   "metadata": {},
   "source": [
    "<!-- Linking Image -->\n",
    "<!-- [![Alt Text](image path \"title\")](link) -->\n",
    "[![Alt Text](https://c.tenor.com/lDyxXRNNDE4AAAAC/sergio-malandro-pranskter.gif \"Pegadinha do malandro\")](https://tenor.com/view/sergio-malandro-pranskter-smiling-gif-10249064)"
   ]
  },
  {
   "cell_type": "code",
   "execution_count": null,
   "id": "ae31f360-caf2-42e0-84ea-1c01e3d96a46",
   "metadata": {},
   "outputs": [],
   "source": []
  }
 ],
 "metadata": {
  "kernelspec": {
   "display_name": "Python 3",
   "language": "python",
   "name": "python3"
  },
  "language_info": {
   "codemirror_mode": {
    "name": "ipython",
    "version": 3
   },
   "file_extension": ".py",
   "mimetype": "text/x-python",
   "name": "python",
   "nbconvert_exporter": "python",
   "pygments_lexer": "ipython3",
   "version": "3.8.8"
  }
 },
 "nbformat": 4,
 "nbformat_minor": 5
}
